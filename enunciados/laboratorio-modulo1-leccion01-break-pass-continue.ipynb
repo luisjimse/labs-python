{
 "cells": [
  {
   "cell_type": "markdown",
   "metadata": {},
   "source": [
    "\n",
    "<div style=\"text-align: center;\">\n",
    "  <img src=\"https://github.com/Hack-io-Data/Imagenes/blob/main/01-LogosHackio/logo_celeste@4x.png?raw=true\" alt=\"esquema\" />\n",
    "</div>\n"
   ]
  },
  {
   "cell_type": "markdown",
   "metadata": {},
   "source": [
    "# Laboratorio de Python: break(), pass(), continue()"
   ]
  },
  {
   "cell_type": "markdown",
   "metadata": {},
   "source": [
    "## Ejercicio 1: Validación de datos numéricos. \n",
    "\n",
    "Escribe un bucle que lea una lista de números y detenga la ejecución si encuentra un valor negativo. Muestra un mensaje indicando el número negativo encontrado.\n"
   ]
  },
  {
   "cell_type": "code",
   "execution_count": 4,
   "metadata": {},
   "outputs": [
    {
     "name": "stdout",
     "output_type": "stream",
     "text": [
      "Procesando número 10\n",
      "Procesando número 15\n",
      "Procesando número 33\n",
      "Se ha encontrado el número negativo -2\n"
     ]
    }
   ],
   "source": [
    "numeros = [10, 15, 33, -2, 9, 20]\n",
    "\n",
    "for numero in numeros:\n",
    "    if numero < 0:\n",
    "        print(f'Se ha encontrado el número negativo {numero}')\n",
    "        break\n",
    "    else:\n",
    "        print(f'Procesando número {numero}')"
   ]
  },
  {
   "cell_type": "markdown",
   "metadata": {},
   "source": [
    "\n",
    "## Ejercicio 2: Filtrado de datos\n",
    "\n",
    "Escribe un bucle que imprima los números de una lista, pero que omita los números pares.\n"
   ]
  },
  {
   "cell_type": "code",
   "execution_count": 6,
   "metadata": {},
   "outputs": [
    {
     "name": "stdout",
     "output_type": "stream",
     "text": [
      "1\n",
      "3\n",
      "5\n",
      "7\n",
      "9\n"
     ]
    }
   ],
   "source": [
    "numeros2 = [1,2,3,4,5,6,7,8,9,10]\n",
    "\n",
    "for numero in numeros2:\n",
    "    if numero % 2 == 0:\n",
    "        continue\n",
    "    print (numero)"
   ]
  },
  {
   "cell_type": "markdown",
   "metadata": {},
   "source": [
    "## Ejercicio 3: Búsqueda de un valor\n",
    "\n",
    "Escribe un programa que busque un valor específico en una lista y detenga la búsqueda cuando lo encuentre. Si se encuentra, muestra un mensaje.\n"
   ]
  },
  {
   "cell_type": "code",
   "execution_count": 7,
   "metadata": {},
   "outputs": [
    {
     "name": "stdout",
     "output_type": "stream",
     "text": [
      "El número 45 no está en la lista\n",
      "El número 45 no está en la lista\n",
      "Se ha encontrado el número 45\n"
     ]
    }
   ],
   "source": [
    "numeros = [15, 30, 45, 60, 75]\n",
    "numero_buscado = 45\n",
    "for numero in numeros:\n",
    "    if numero == numero_buscado:\n",
    "        print(f'Se ha encontrado el número {numero_buscado}')\n",
    "        break\n",
    "    else:\n",
    "        print(f'El número {numero_buscado} no está en la lista')"
   ]
  },
  {
   "cell_type": "markdown",
   "metadata": {},
   "source": [
    "## Ejercicio 4: Estructura de código incompleto\n",
    "\n",
    "Define una función que aún no tenga lógica implementada, pero que se pueda ejecutar sin errores utilizando `pass`."
   ]
  },
  {
   "cell_type": "code",
   "execution_count": 8,
   "metadata": {},
   "outputs": [],
   "source": [
    "def funcion_incompleta():\n",
    "    pass"
   ]
  },
  {
   "cell_type": "markdown",
   "metadata": {},
   "source": [
    "## Ejercicio 5: Validación condicional\n",
    "\n",
    "Escribe un bucle que verifique una lista de nombres. Si encuentra un nombre vacío (cadena vacía), salta esa iteración y continúa con los demás nombres.\n"
   ]
  },
  {
   "cell_type": "code",
   "execution_count": 9,
   "metadata": {},
   "outputs": [
    {
     "name": "stdout",
     "output_type": "stream",
     "text": [
      "Maria\n",
      "Juan\n",
      "Alberto\n",
      "Lucia\n"
     ]
    }
   ],
   "source": [
    "nombres = ['Maria', 'Juan', 'Alberto', '', 'Lucia']\n",
    "for nombre in nombres:\n",
    "    if nombre == '':\n",
    "        continue\n",
    "    print(nombre)"
   ]
  },
  {
   "cell_type": "markdown",
   "metadata": {},
   "source": [
    "## Ejercicio 6: Búsqueda de claves en un diccionario\n",
    "\n",
    "Escribe un programa que recorra un diccionario y detenga la búsqueda si encuentra una clave específica pasada por el usuario.\n"
   ]
  },
  {
   "cell_type": "code",
   "execution_count": 10,
   "metadata": {},
   "outputs": [
    {
     "name": "stdout",
     "output_type": "stream",
     "text": [
      "Luis\n"
     ]
    }
   ],
   "source": [
    "persona = {\n",
    "    'nombre': 'Luis',\n",
    "    'edad': 25,\n",
    "    'pais': 'España'\n",
    "}\n",
    "\n",
    "clave_buscada = input('¿Qué clave quieres buscar?')\n",
    "for clave in persona:\n",
    "    if clave == clave_buscada:\n",
    "        print(persona[clave])\n",
    "        break\n",
    "    else:\n",
    "        print('La clave no está en el diccionario')"
   ]
  },
  {
   "cell_type": "markdown",
   "metadata": {},
   "source": [
    "## Ejercicio 7: Bucle con múltiples excepciones\n",
    "\n",
    "Escribe un bucle que procese una lista de operaciones matemáticas, omitiendo las operaciones que intenten dividir por cero.\n"
   ]
  },
  {
   "cell_type": "code",
   "execution_count": 11,
   "metadata": {},
   "outputs": [
    {
     "name": "stdout",
     "output_type": "stream",
     "text": [
      "El resultado es 5.0\n",
      "División por cero\n",
      "El resultado es 5.0\n",
      "División por cero\n",
      "El resultado es 5.0\n"
     ]
    }
   ],
   "source": [
    "operaciones = [(10,2),(18,0),(20,4),(5,0),(40,8)]\n",
    "\n",
    "for dividendo, divisor in operaciones:\n",
    "    if divisor == 0:\n",
    "        print('División por cero')\n",
    "        continue\n",
    "    resultado = dividendo / divisor\n",
    "    print(f'El resultado es {resultado}')"
   ]
  },
  {
   "cell_type": "markdown",
   "metadata": {},
   "source": [
    "## Ejercicio 8: Búsqueda en una lista anidada\n",
    "\n",
    "Escribe un programa que recorra una lista de listas y detenga la búsqueda cuando encuentre un valor mayor a 50.\n"
   ]
  },
  {
   "cell_type": "code",
   "execution_count": 20,
   "metadata": {},
   "outputs": [
    {
     "name": "stdout",
     "output_type": "stream",
     "text": [
      "Número encontrado: 55\n"
     ]
    }
   ],
   "source": [
    "listas = [[1, 5, 9], [10, 20, 30], [40, 45, 55], [2, 4, 8]]\n",
    "\n",
    "for sublista in listas:\n",
    "    for num in sublista:\n",
    "        if num > 50:\n",
    "            print(f'Número encontrado: {num}')\n",
    "            break"
   ]
  },
  {
   "cell_type": "markdown",
   "metadata": {},
   "source": [
    "## Ejercicio 9: Evaluación de series temporales\n",
    "\n",
    "Escribe un programa que recorra una lista de datos de series temporales y se detenga si encuentra un valor atípico (mayor a 100).\n"
   ]
  },
  {
   "cell_type": "code",
   "execution_count": 22,
   "metadata": {},
   "outputs": [
    {
     "name": "stdout",
     "output_type": "stream",
     "text": [
      "Procesando valor: 10\n",
      "Procesando valor: 50\n",
      "Procesando valor: 9\n",
      "Procesando valor: 23\n",
      "Valor atípico encontrado: 103\n"
     ]
    }
   ],
   "source": [
    "series_temporales = [10, 50, 9, 23, 103, 85, 43]\n",
    "for numero in series_temporales:\n",
    "    if numero > 100:\n",
    "        print(f'Valor atípico encontrado: {numero}')\n",
    "        break\n",
    "    print(f'Procesando valor: {numero}')"
   ]
  },
  {
   "cell_type": "markdown",
   "metadata": {},
   "source": [
    "## Ejercicio 10: Iteración con valores faltantes\n",
    "\n",
    "Crea un bucle que recorra una lista de datos de ventas y salte los valores faltantes representados por `None`."
   ]
  },
  {
   "cell_type": "code",
   "execution_count": 23,
   "metadata": {},
   "outputs": [
    {
     "name": "stdout",
     "output_type": "stream",
     "text": [
      "Procesando venta 120\n",
      "Procesando venta 65\n",
      "Venta faltante encontrada. Saltando...\n",
      "Procesando venta 100\n",
      "Procesando venta 20\n",
      "Venta faltante encontrada. Saltando...\n",
      "Procesando venta 89\n"
     ]
    }
   ],
   "source": [
    "ventas = [120, 65, None, 100, 20, None, 89]\n",
    "for venta in ventas:\n",
    "    if venta == None:\n",
    "        print('Venta faltante encontrada. Saltando...')\n",
    "        continue\n",
    "    print(f'Procesando venta {venta}')"
   ]
  },
  {
   "cell_type": "markdown",
   "metadata": {},
   "source": [
    "## Ejercicio 11: Control de flujo en bucles anidados\n",
    "\n",
    "Escribe un bucle que recorra la matriz dada y se detenga si se encuentra un número negativo, mostrando su posición.\n",
    "\n"
   ]
  },
  {
   "cell_type": "code",
   "execution_count": null,
   "metadata": {},
   "outputs": [],
   "source": []
  },
  {
   "cell_type": "markdown",
   "metadata": {},
   "source": [
    "## Ejercicio 12: Placeholder para funciones incompletas\n",
    "\n",
    "Escribe una función que tenga un bloque de control que aún no esté implementado, utilizando `pass` para que no genere errores."
   ]
  },
  {
   "cell_type": "code",
   "execution_count": null,
   "metadata": {},
   "outputs": [],
   "source": []
  }
 ],
 "metadata": {
  "kernelspec": {
   "display_name": "Python 3",
   "language": "python",
   "name": "python3"
  },
  "language_info": {
   "codemirror_mode": {
    "name": "ipython",
    "version": 3
   },
   "file_extension": ".py",
   "mimetype": "text/x-python",
   "name": "python",
   "nbconvert_exporter": "python",
   "pygments_lexer": "ipython3",
   "version": "3.9.6"
  }
 },
 "nbformat": 4,
 "nbformat_minor": 2
}
