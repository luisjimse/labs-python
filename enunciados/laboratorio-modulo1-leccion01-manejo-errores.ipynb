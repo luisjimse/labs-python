{
 "cells": [
  {
   "cell_type": "markdown",
   "metadata": {},
   "source": [
    "\n",
    "<div style=\"text-align: center;\">\n",
    "  <img src=\"https://github.com/Hack-io-Data/Imagenes/blob/main/01-LogosHackio/logo_celeste@4x.png?raw=true\" alt=\"esquema\" />\n",
    "</div>\n"
   ]
  },
  {
   "cell_type": "markdown",
   "metadata": {},
   "source": [
    "# Laboratorio de Python: manejo de errores."
   ]
  },
  {
   "cell_type": "markdown",
   "metadata": {},
   "source": [
    "## Ejercicio 1: División con manejo de excepciones\n",
    "\n",
    "Escribe un programa que pida al usuario dos números e intente dividirlos. Si el usuario ingresa un valor no numérico o intenta dividir por cero, maneja esas excepciones de manera adecuada. Asegúrate de mostrar un mensaje indicando si la división fue exitosa o no.\n"
   ]
  },
  {
   "cell_type": "code",
   "execution_count": 3,
   "metadata": {},
   "outputs": [],
   "source": [
    "def dividir():\n",
    "    try:\n",
    "        num1 = float(input('Intruduce el primer número:'))\n",
    "        num2 = float(input('Intruduce el segundo número:'))\n",
    "        resultado = num1 / num2\n",
    "    except ValueError:\n",
    "        print('No has escrito números')\n",
    "    except ZeroDivisionError:\n",
    "        print('No puedes dividir entre 0')\n",
    "    else:\n",
    "        print(f'La división ha sido exitosa, el resultado es {resultado}')"
   ]
  },
  {
   "cell_type": "code",
   "execution_count": 4,
   "metadata": {},
   "outputs": [
    {
     "name": "stdout",
     "output_type": "stream",
     "text": [
      "La división ha sido exitosa, el resultado es 4.0\n"
     ]
    }
   ],
   "source": [
    "dividir()"
   ]
  },
  {
   "cell_type": "markdown",
   "metadata": {},
   "source": [
    "## Ejercicio 2: Acceso a archivos\n",
    "\n",
    "Escribe un programa que intente abrir un archivo llamado \"datos.txt\". Si el archivo no existe, captura la excepción y muestra un mensaje de error. Asegúrate de cerrar el archivo correctamente en la sección `finally`.\n"
   ]
  },
  {
   "cell_type": "code",
   "execution_count": 6,
   "metadata": {},
   "outputs": [],
   "source": [
    "def abrir_archivo():\n",
    "    try:\n",
    "        with open('archivo.txt', 'r') as archivo:\n",
    "            contenido = archivo.read()\n",
    "        print(contenido)\n",
    "    except FileNotFoundError:\n",
    "        print('El archivo no existe')\n",
    "    finally:\n",
    "        archivo.close()\n",
    "        print('Archivo cerrado')"
   ]
  },
  {
   "cell_type": "markdown",
   "metadata": {},
   "source": [
    "## Ejercicio 3: Conversión de cadenas a enteros\n",
    "\n",
    "Escribe un programa que pida una lista de números separados por comas y convierta cada valor a un número entero. Maneja las excepciones para valores que no sean convertibles y asegúrate de informar si la conversión fue exitosa o no.\n"
   ]
  },
  {
   "cell_type": "code",
   "execution_count": 8,
   "metadata": {},
   "outputs": [],
   "source": [
    "def convertir_lista():\n",
    "    numeros = input('Introduce una lista de números separados por comas')\n",
    "    numeros_separados = numeros.split(',')\n",
    "    numeros_convertidos = []\n",
    "\n",
    "    for numero in numeros_separados:\n",
    "        try:\n",
    "            numeros_convertidos.append(int(numero.strip()))\n",
    "        except ValueError:\n",
    "            print(f'{numero.strip()} no es un número')\n",
    "    \n",
    "    if numeros_convertidos:\n",
    "        print(f'Lista de números: {numeros_convertidos}')\n",
    "    else:\n",
    "        print('Ha habido un error')\n",
    "    "
   ]
  },
  {
   "cell_type": "code",
   "execution_count": 10,
   "metadata": {},
   "outputs": [
    {
     "name": "stdout",
     "output_type": "stream",
     "text": [
      "e no es un número\n",
      "dnjke no es un número\n",
      "Lista de números: [10, 30, 9]\n"
     ]
    }
   ],
   "source": [
    "convertir_lista()"
   ]
  },
  {
   "cell_type": "markdown",
   "metadata": {},
   "source": [
    "#### Ejercicio 4: Cálculo del promedio con manejo de excepciones\n",
    "\n",
    "Escribe una función que reciba una lista de números y calcule su promedio. Si la lista está vacía, lanza una excepción personalizada y maneja el error adecuadamente.\n"
   ]
  },
  {
   "cell_type": "code",
   "execution_count": null,
   "metadata": {},
   "outputs": [],
   "source": []
  },
  {
   "cell_type": "markdown",
   "metadata": {},
   "source": [
    "#### Ejercicio 5: Conversión segura de números\n",
    "\n",
    "Escribe un programa que convierta una cadena a número flotante e intente realizar una operación aritmética. Si la conversión falla, maneja la excepción y continúa con el flujo normal."
   ]
  },
  {
   "cell_type": "code",
   "execution_count": 12,
   "metadata": {},
   "outputs": [],
   "source": [
    "def convertir_multiplicar(cadena):\n",
    "    try:\n",
    "        numero = float(cadena)\n",
    "        resultado = numero * 2\n",
    "        print(f'Se ha convertido el número {numero}, el resultado es {resultado}')\n",
    "    except ValueError:\n",
    "        print(f'Error. {cadena} no se puede convertir a número')\n"
   ]
  },
  {
   "cell_type": "code",
   "execution_count": 15,
   "metadata": {},
   "outputs": [
    {
     "name": "stdout",
     "output_type": "stream",
     "text": [
      "Error. cijw no se puede convertir a número\n",
      "Se ha convertido el número 20.0, el resultado es 40.0\n",
      "Error. luis no se puede convertir a número\n",
      "Se ha convertido el número 2.0, el resultado es 4.0\n",
      "Se ha convertido el número 89.0, el resultado es 178.0\n",
      "Error.  no se puede convertir a número\n"
     ]
    }
   ],
   "source": [
    "cadenas = ['cijw', '20', 'luis', '2', '89', '']\n",
    "for cadena in cadenas:\n",
    "    convertir_multiplicar(cadena)"
   ]
  },
  {
   "cell_type": "markdown",
   "metadata": {},
   "source": [
    "#### Ejercicio 6: Acceso a claves en diccionarios\n",
    "\n",
    "Escribe un programa que intente acceder a una clave específica en un diccionario. Si la clave no existe, maneja la excepción `KeyError` y muestra un mensaje indicando el problema."
   ]
  },
  {
   "cell_type": "code",
   "execution_count": 16,
   "metadata": {},
   "outputs": [],
   "source": [
    "def buscar_clave(diccionario, clave):\n",
    "    try:\n",
    "        valor = diccionario[clave]\n",
    "        print(f'El valor de {clave} es {valor}')\n",
    "    except KeyError:\n",
    "        print(f'La clave {clave} no existe')"
   ]
  },
  {
   "cell_type": "code",
   "execution_count": 18,
   "metadata": {},
   "outputs": [
    {
     "name": "stdout",
     "output_type": "stream",
     "text": [
      "La clave trabajo no existe\n"
     ]
    }
   ],
   "source": [
    "diccionario1 = {'nombre': 'Luis', 'edad': 25, 'pais': 'España'}\n",
    "buscar_clave(diccionario1, 'trabajo')"
   ]
  },
  {
   "cell_type": "markdown",
   "metadata": {},
   "source": [
    "\n",
    "#### Ejercicio 7: Verificación de entradas de usuario\n",
    "\n",
    "Escribe un programa que pida al usuario que introduzca su edad. Si el usuario ingresa un valor no numérico o un valor fuera del rango esperado (por ejemplo, menor que 0 o mayor que 120), maneja las excepciones adecuadamente."
   ]
  },
  {
   "cell_type": "code",
   "execution_count": 19,
   "metadata": {},
   "outputs": [],
   "source": [
    "def pedir_edad():\n",
    "    try:\n",
    "        edad = int(input('Introduce tu edad:'))\n",
    "        if edad < 0 or edad > 120:\n",
    "            print('La edad debe estar entre 0 y 120')\n",
    "        else:\n",
    "            print(f'Tu edad es {edad} años')\n",
    "    except ValueError:\n",
    "        print('Error. Introduce un número')"
   ]
  },
  {
   "cell_type": "code",
   "execution_count": 22,
   "metadata": {},
   "outputs": [
    {
     "name": "stdout",
     "output_type": "stream",
     "text": [
      "Error. Introduce un número\n"
     ]
    }
   ],
   "source": [
    "pedir_edad()"
   ]
  },
  {
   "cell_type": "markdown",
   "metadata": {},
   "source": [
    "#### Ejercicio 8: Extracción de valores de una lista\n",
    "\n",
    "Escribe una función que intente acceder a un índice específico en una lista. Si el índice está fuera del rango, maneja la excepción `IndexError` y muestra un mensaje adecuado.\n"
   ]
  },
  {
   "cell_type": "code",
   "execution_count": 23,
   "metadata": {},
   "outputs": [],
   "source": [
    "def acceso_lista(lista, indice):\n",
    "    try:\n",
    "        valor = lista[indice]\n",
    "        print(f'El valor {indice} es {valor}')\n",
    "    except IndexError:\n",
    "        print('Ese índice está fuera del rango de la lista')"
   ]
  },
  {
   "cell_type": "code",
   "execution_count": 26,
   "metadata": {},
   "outputs": [
    {
     "name": "stdout",
     "output_type": "stream",
     "text": [
      "Ese índice está fuera del rango de la lista\n",
      "El valor 3 es 8\n"
     ]
    }
   ],
   "source": [
    "lista1 = [2, 4, 6, 8, 10]\n",
    "acceso_lista(lista1, 7)\n",
    "acceso_lista(lista1, 3)"
   ]
  },
  {
   "cell_type": "code",
   "execution_count": null,
   "metadata": {},
   "outputs": [],
   "source": []
  }
 ],
 "metadata": {
  "kernelspec": {
   "display_name": "Python 3",
   "language": "python",
   "name": "python3"
  },
  "language_info": {
   "codemirror_mode": {
    "name": "ipython",
    "version": 3
   },
   "file_extension": ".py",
   "mimetype": "text/x-python",
   "name": "python",
   "nbconvert_exporter": "python",
   "pygments_lexer": "ipython3",
   "version": "3.9.6"
  }
 },
 "nbformat": 4,
 "nbformat_minor": 2
}
