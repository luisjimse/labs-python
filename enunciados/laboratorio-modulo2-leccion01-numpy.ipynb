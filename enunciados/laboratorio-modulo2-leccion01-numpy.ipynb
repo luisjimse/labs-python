{
 "cells": [
  {
   "cell_type": "markdown",
   "id": "6db588db",
   "metadata": {},
   "source": [
    "<div style=\"text-align: center;\">\n",
    "  <img src=\"https://github.com/Hack-io-Data/Imagenes/blob/main/01-LogosHackio/logo_naranja@4x.png?raw=true\" alt=\"esquema\" />\n",
    "</div>"
   ]
  },
  {
   "cell_type": "code",
   "execution_count": 2,
   "id": "11d3f85f",
   "metadata": {},
   "outputs": [],
   "source": [
    "import os"
   ]
  },
  {
   "cell_type": "code",
   "execution_count": 1,
   "id": "13f05d52",
   "metadata": {},
   "outputs": [],
   "source": [
    "import numpy as np"
   ]
  },
  {
   "cell_type": "code",
   "execution_count": 4,
   "id": "64ff9293",
   "metadata": {},
   "outputs": [
    {
     "data": {
      "text/plain": [
       "['laboratorio-modulo2-leccion01-numpy.ipynb',\n",
       " 'laboratorio-modulo2-leccion05-limpieza.ipynb',\n",
       " 'laboratorio-modulo2-leccion04-visualizacion.ipynb',\n",
       " 'laboratorio-modulo2-leccion03-groupby.ipynb',\n",
       " 'laboratorio-modulo2-leccion02-eda-union.ipynb',\n",
       " 'laboratorio-modulo2-leccion03-filtrado.ipynb']"
      ]
     },
     "execution_count": 4,
     "metadata": {},
     "output_type": "execute_result"
    }
   ],
   "source": [
    "datos = os.listdir()\n",
    "datos"
   ]
  },
  {
   "cell_type": "code",
   "execution_count": null,
   "id": "74e36252",
   "metadata": {},
   "outputs": [],
   "source": [
    "diccioanrio_df = {diccioanrio_df[re.findall(\"\\d{4}\", i)[0]] : pd.read_csv(f\"..dato/{i}\") for i in datos}\n",
    "\n",
    "diccioanrio_df = {}\n",
    "for i in datos:\n",
    "    df = pd.read_csv(i)\n",
    "    diccioanrio_df[i.spl]\n"
   ]
  },
  {
   "cell_type": "markdown",
   "id": "11308d6c",
   "metadata": {},
   "source": [
    "for i in datos\n",
    "# Laboratorio de NumPy"
   ]
  },
  {
   "cell_type": "markdown",
   "id": "a19d4596",
   "metadata": {},
   "source": [
    "#### Ejercicio 1 - Crea un array de 1D con los números del 0 al 9."
   ]
  },
  {
   "cell_type": "code",
   "execution_count": 3,
   "id": "9d4e1d42",
   "metadata": {},
   "outputs": [
    {
     "data": {
      "text/plain": [
       "array([0, 1, 2, 3, 4, 5, 6, 7, 8, 9])"
      ]
     },
     "execution_count": 3,
     "metadata": {},
     "output_type": "execute_result"
    }
   ],
   "source": [
    "array_unidimensional_arange_1 =  np.arange(10)\n",
    "array_unidimensional_arange_1\n"
   ]
  },
  {
   "cell_type": "markdown",
   "id": "f4a41f16",
   "metadata": {},
   "source": [
    "#### Ejercicio 2 - Convierte un array 1D en un array 2D con 2 filas y 5 columnas."
   ]
  },
  {
   "cell_type": "code",
   "execution_count": 5,
   "id": "3d7cef3c",
   "metadata": {},
   "outputs": [
    {
     "data": {
      "text/plain": [
       "array([[0, 1, 2, 3, 4],\n",
       "       [5, 6, 7, 8, 9]])"
      ]
     },
     "execution_count": 5,
     "metadata": {},
     "output_type": "execute_result"
    }
   ],
   "source": [
    "reshaped = np.reshape(array_unidimensional_arange_1, (2, 5))\n",
    "reshaped"
   ]
  },
  {
   "cell_type": "markdown",
   "id": "86bb8999",
   "metadata": {},
   "source": [
    "#### Ejercicio 3 - Encuentra los índices de los elementos con valor distinto de 0 en el siguiente array: [0, 2, 0, 3, 0, 4, 0]."
   ]
  },
  {
   "cell_type": "code",
   "execution_count": 7,
   "id": "d1fcfca4",
   "metadata": {},
   "outputs": [
    {
     "data": {
      "text/plain": [
       "(array([1, 3, 5]),)"
      ]
     },
     "execution_count": 7,
     "metadata": {},
     "output_type": "execute_result"
    }
   ],
   "source": [
    "lista = [0, 2, 0, 3, 0, 4, 0]\n",
    "array2 = np.array(lista)\n",
    "resultado_where = np.where(array2 != 0)\n",
    "resultado_where"
   ]
  },
  {
   "cell_type": "markdown",
   "id": "1c548419",
   "metadata": {},
   "source": [
    "#### Ejercicio 4 - Crea un array 3x3 con valores aleatorios entre 0 y 1."
   ]
  },
  {
   "cell_type": "code",
   "execution_count": 8,
   "id": "e1d4f19f",
   "metadata": {},
   "outputs": [
    {
     "data": {
      "text/plain": [
       "array([[0.32459501, 0.11031209, 0.52733172],\n",
       "       [0.82324168, 0.85947553, 0.09824363],\n",
       "       [0.54644395, 0.64167902, 0.00438682]])"
      ]
     },
     "execution_count": 8,
     "metadata": {},
     "output_type": "execute_result"
    }
   ],
   "source": [
    "array_rand_bi = np.random.rand(3,3)\n",
    "array_rand_bi"
   ]
  },
  {
   "cell_type": "markdown",
   "id": "aee82811",
   "metadata": {},
   "source": [
    "#### Ejercicio 5 - Crea un array de 10 números aleatorios y encuentra el valor máximo y mínimo."
   ]
  },
  {
   "cell_type": "code",
   "execution_count": 11,
   "id": "81fea76e",
   "metadata": {},
   "outputs": [
    {
     "name": "stdout",
     "output_type": "stream",
     "text": [
      "El array es [0.38822824 0.05806055 0.58127105 0.52372174 0.72082384 0.1809888\n",
      " 0.71530431 0.12491836 0.19180282 0.71202967]\n",
      "El valor mínimo es 0.05806054765134705\n",
      "El valor máximo es 0.7208238364338065\n"
     ]
    }
   ],
   "source": [
    "array_rand_uni = np.random.rand(10)\n",
    "array_rand_uni\n",
    "minimo = np.min(array_rand_uni)\n",
    "maximo = np.max(array_rand_uni)\n",
    "print(f'El array es {array_rand_uni}')\n",
    "print(f'El valor mínimo es {minimo}')\n",
    "print(f'El valor máximo es {maximo}')\n"
   ]
  },
  {
   "cell_type": "markdown",
   "id": "6559375b",
   "metadata": {},
   "source": [
    "#### Ejercicio 6 - Crea un array de una dimensión e inviértelo. "
   ]
  },
  {
   "cell_type": "code",
   "execution_count": null,
   "id": "31385db0",
   "metadata": {},
   "outputs": [],
   "source": []
  },
  {
   "cell_type": "markdown",
   "id": "4457f046",
   "metadata": {},
   "source": [
    "\n",
    "#### Ejercicio 6 - Genera un array tridimensional de dimensiones (2, 3, 4) con valores enteros del 1 al 24.\n",
    "\n",
    "- Selecciona el primer `15` del array.\n",
    "\n",
    "- Selecciona todos los elementos del primer array. \n",
    "\n",
    "- Selecciona la última fila del último array\n"
   ]
  },
  {
   "cell_type": "code",
   "execution_count": 16,
   "id": "3cab04c9",
   "metadata": {},
   "outputs": [
    {
     "data": {
      "text/plain": [
       "array([[[11, 16,  8,  8],\n",
       "        [11,  5, 17, 15],\n",
       "        [17,  6, 24, 23]],\n",
       "\n",
       "       [[12,  4,  7, 17],\n",
       "        [ 8, 15,  1, 18],\n",
       "        [24, 13,  2, 20]]])"
      ]
     },
     "execution_count": 16,
     "metadata": {},
     "output_type": "execute_result"
    }
   ],
   "source": [
    "array_randint_tri = np.random.randint(1, 25, (2,3, 4))\n",
    "array_randint_tri"
   ]
  },
  {
   "cell_type": "code",
   "execution_count": 17,
   "id": "399ddbaf",
   "metadata": {},
   "outputs": [
    {
     "data": {
      "text/plain": [
       "np.int64(15)"
      ]
     },
     "execution_count": 17,
     "metadata": {},
     "output_type": "execute_result"
    }
   ],
   "source": [
    "array_randint_tri[0,1,3]"
   ]
  },
  {
   "cell_type": "code",
   "execution_count": 18,
   "id": "2dd36aaa",
   "metadata": {},
   "outputs": [
    {
     "data": {
      "text/plain": [
       "array([[11, 16,  8,  8],\n",
       "       [11,  5, 17, 15],\n",
       "       [17,  6, 24, 23]])"
      ]
     },
     "execution_count": 18,
     "metadata": {},
     "output_type": "execute_result"
    }
   ],
   "source": [
    "array_randint_tri[0]"
   ]
  },
  {
   "cell_type": "code",
   "execution_count": 19,
   "id": "c1be0022",
   "metadata": {},
   "outputs": [
    {
     "data": {
      "text/plain": [
       "array([24, 13,  2, 20])"
      ]
     },
     "execution_count": 19,
     "metadata": {},
     "output_type": "execute_result"
    }
   ],
   "source": [
    "array_randint_tri[1,2]"
   ]
  },
  {
   "cell_type": "markdown",
   "id": "681b7e4e",
   "metadata": {},
   "source": [
    "\n",
    "#### Ejercicio 7 - Genera un array tridimensional de dimensiones (3, 2, 5) con valores enteros del 1 al 30.\n",
    "\n",
    "- Selecciona el subarray que contiene los dos primeros elementos de cada fila del primer array.\n",
    "\n",
    "- Selecciona el subarray que contiene todas las filas de los dos últimos arrays.\n"
   ]
  },
  {
   "cell_type": "code",
   "execution_count": 20,
   "id": "b008a9aa",
   "metadata": {},
   "outputs": [
    {
     "data": {
      "text/plain": [
       "array([[[ 3, 15,  8, 21, 12],\n",
       "        [ 7, 30, 22,  5, 10]],\n",
       "\n",
       "       [[13,  4,  3, 27, 24],\n",
       "        [15, 20, 15, 26, 24]],\n",
       "\n",
       "       [[25, 14, 15,  3, 18],\n",
       "        [24, 26, 24, 11,  3]]])"
      ]
     },
     "execution_count": 20,
     "metadata": {},
     "output_type": "execute_result"
    }
   ],
   "source": [
    "array_randint_tri2 = np.random.randint(1, 31, (3,2, 5))\n",
    "array_randint_tri2\n"
   ]
  },
  {
   "cell_type": "code",
   "execution_count": 21,
   "id": "e90255cf",
   "metadata": {},
   "outputs": [
    {
     "data": {
      "text/plain": [
       "array([[ 3, 15],\n",
       "       [ 7, 30]])"
      ]
     },
     "execution_count": 21,
     "metadata": {},
     "output_type": "execute_result"
    }
   ],
   "source": [
    "array_randint_tri2[0,:,:2]"
   ]
  },
  {
   "cell_type": "code",
   "execution_count": 22,
   "id": "d66f31db",
   "metadata": {},
   "outputs": [
    {
     "data": {
      "text/plain": [
       "array([[[13,  4,  3, 27, 24],\n",
       "        [15, 20, 15, 26, 24]],\n",
       "\n",
       "       [[25, 14, 15,  3, 18],\n",
       "        [24, 26, 24, 11,  3]]])"
      ]
     },
     "execution_count": 22,
     "metadata": {},
     "output_type": "execute_result"
    }
   ],
   "source": [
    "array_randint_tri2[1:]"
   ]
  },
  {
   "cell_type": "markdown",
   "id": "4fabd9d0",
   "metadata": {},
   "source": [
    "#### Ejercicio 8 - Genera un array tridimensional de dimensiones (4, 3, 2) con valores enteros del 1 al 24.\n",
    "\n",
    "- Cambia todos los elementos de la segunda fila del segundo array por `0`.\n",
    "\n",
    "- Cambia todos los valores del último array a `-1`.\n"
   ]
  },
  {
   "cell_type": "code",
   "execution_count": 23,
   "id": "0ef45b69",
   "metadata": {},
   "outputs": [
    {
     "data": {
      "text/plain": [
       "array([[[16, 22],\n",
       "        [19, 19],\n",
       "        [12, 12]],\n",
       "\n",
       "       [[22, 10],\n",
       "        [ 1, 17],\n",
       "        [22, 22]],\n",
       "\n",
       "       [[23, 17],\n",
       "        [16,  3],\n",
       "        [24,  5]],\n",
       "\n",
       "       [[14,  8],\n",
       "        [ 3,  4],\n",
       "        [ 1,  2]]])"
      ]
     },
     "execution_count": 23,
     "metadata": {},
     "output_type": "execute_result"
    }
   ],
   "source": [
    "array_randint_tri3 = np.random.randint(1, 25, (4,3,2))\n",
    "array_randint_tri3\n"
   ]
  },
  {
   "cell_type": "code",
   "execution_count": 26,
   "id": "9a1840c5",
   "metadata": {},
   "outputs": [
    {
     "data": {
      "text/plain": [
       "array([0, 0])"
      ]
     },
     "execution_count": 26,
     "metadata": {},
     "output_type": "execute_result"
    }
   ],
   "source": [
    "array_randint_tri3[1,1] = 0\n",
    "array_randint_tri3[1,1]"
   ]
  },
  {
   "cell_type": "code",
   "execution_count": 27,
   "id": "705b5bf5",
   "metadata": {},
   "outputs": [
    {
     "data": {
      "text/plain": [
       "array([[-1, -1],\n",
       "       [-1, -1],\n",
       "       [-1, -1]])"
      ]
     },
     "execution_count": 27,
     "metadata": {},
     "output_type": "execute_result"
    }
   ],
   "source": [
    "array_randint_tri3[3] = -1\n",
    "array_randint_tri3[3]"
   ]
  },
  {
   "cell_type": "code",
   "execution_count": 28,
   "id": "9c49c6ea",
   "metadata": {},
   "outputs": [
    {
     "data": {
      "text/plain": [
       "array([[[16, 22],\n",
       "        [19, 19],\n",
       "        [12, 12]],\n",
       "\n",
       "       [[22, 10],\n",
       "        [ 0,  0],\n",
       "        [22, 22]],\n",
       "\n",
       "       [[23, 17],\n",
       "        [16,  3],\n",
       "        [24,  5]],\n",
       "\n",
       "       [[-1, -1],\n",
       "        [-1, -1],\n",
       "        [-1, -1]]])"
      ]
     },
     "execution_count": 28,
     "metadata": {},
     "output_type": "execute_result"
    }
   ],
   "source": [
    "array_randint_tri3"
   ]
  },
  {
   "cell_type": "markdown",
   "id": "c60bc3bb",
   "metadata": {},
   "source": [
    "\n",
    "#### Ejercicio 9 - Genera un array tridimensional de dimensiones (2, 4, 3) con valores enteros del -10 al 13.\n",
    "\n",
    "- Selecciona todos los elementos mayores a `5`.\n",
    "\n",
    "- Reemplaza todos los elementos negativos por `0`.\n"
   ]
  },
  {
   "cell_type": "code",
   "execution_count": 30,
   "id": "28bf9232",
   "metadata": {},
   "outputs": [
    {
     "data": {
      "text/plain": [
       "array([[[  5,   6,  -8],\n",
       "        [  6,  -1,   2],\n",
       "        [ -4,   6,  -5],\n",
       "        [ -3, -10, -10]],\n",
       "\n",
       "       [[ -5,  11, -10],\n",
       "        [ -2,  -4,   4],\n",
       "        [  7,   3,  13],\n",
       "        [ -7,  -3,   7]]])"
      ]
     },
     "execution_count": 30,
     "metadata": {},
     "output_type": "execute_result"
    }
   ],
   "source": [
    "array_randint_tri4 = np.random.randint(-10, 14, (2,4,3))\n",
    "array_randint_tri4\n"
   ]
  },
  {
   "cell_type": "code",
   "execution_count": 35,
   "id": "70a290b7",
   "metadata": {},
   "outputs": [
    {
     "data": {
      "text/plain": [
       "array([ 6,  6,  6, 11,  7, 13,  7])"
      ]
     },
     "execution_count": 35,
     "metadata": {},
     "output_type": "execute_result"
    }
   ],
   "source": [
    "mayores5 = array_randint_tri4[array_randint_tri4 > 5]\n",
    "mayores5"
   ]
  },
  {
   "cell_type": "code",
   "execution_count": 36,
   "id": "557a3c73",
   "metadata": {},
   "outputs": [
    {
     "data": {
      "text/plain": [
       "array([[[ 5,  6,  0],\n",
       "        [ 6,  0,  2],\n",
       "        [ 0,  6,  0],\n",
       "        [ 0,  0,  0]],\n",
       "\n",
       "       [[ 0, 11,  0],\n",
       "        [ 0,  0,  4],\n",
       "        [ 7,  3, 13],\n",
       "        [ 0,  0,  7]]])"
      ]
     },
     "execution_count": 36,
     "metadata": {},
     "output_type": "execute_result"
    }
   ],
   "source": [
    "array_randint_tri4[array_randint_tri4 < 0] = 0\n",
    "array_randint_tri4"
   ]
  },
  {
   "cell_type": "markdown",
   "id": "ab38a3be",
   "metadata": {},
   "source": [
    "#### Ejercicio 10 - Genera un array tridimensional de dimensiones (3, 3, 3) con valores enteros del 1 al 27.\n",
    "\n",
    "- Selecciona el subarray del segundo array que contenga solo las dos primeras columnas.\n",
    "\n",
    "- Selecciona todos los elementos del tercer array que sean mayores que `20`.\n"
   ]
  },
  {
   "cell_type": "code",
   "execution_count": 37,
   "id": "78c979cf",
   "metadata": {},
   "outputs": [
    {
     "data": {
      "text/plain": [
       "array([[[11, 18, 11],\n",
       "        [ 2,  9, 17],\n",
       "        [13, 19, 27]],\n",
       "\n",
       "       [[23,  7,  8],\n",
       "        [14, 20, 15],\n",
       "        [ 5, 12,  9]],\n",
       "\n",
       "       [[20,  7,  6],\n",
       "        [20, 10, 15],\n",
       "        [20,  1, 27]]])"
      ]
     },
     "execution_count": 37,
     "metadata": {},
     "output_type": "execute_result"
    }
   ],
   "source": [
    "array_randint_tri5 = np.random.randint(1, 28, (3,3,3))\n",
    "array_randint_tri5"
   ]
  },
  {
   "cell_type": "code",
   "execution_count": 38,
   "id": "7960e810",
   "metadata": {},
   "outputs": [
    {
     "data": {
      "text/plain": [
       "array([[23,  7],\n",
       "       [14, 20],\n",
       "       [ 5, 12]])"
      ]
     },
     "execution_count": 38,
     "metadata": {},
     "output_type": "execute_result"
    }
   ],
   "source": [
    "array_randint_tri5[1,:,:2]"
   ]
  },
  {
   "cell_type": "code",
   "execution_count": 44,
   "id": "3e35de6e",
   "metadata": {},
   "outputs": [
    {
     "data": {
      "text/plain": [
       "array([27, 23, 27])"
      ]
     },
     "execution_count": 44,
     "metadata": {},
     "output_type": "execute_result"
    }
   ],
   "source": [
    "mayores20 = array_randint_tri5[array_randint_tri5 > 20]\n",
    "mayores20"
   ]
  },
  {
   "cell_type": "markdown",
   "id": "f1a00156",
   "metadata": {},
   "source": [
    "#### Ejercicio 11 - Crea un array de 10 números aleatorios y reemplaza los valores máximos y mínimos por 0."
   ]
  },
  {
   "cell_type": "code",
   "execution_count": 46,
   "id": "990fa526",
   "metadata": {},
   "outputs": [
    {
     "data": {
      "text/plain": [
       "array([0.63620654, 0.50559446, 0.53327484, 0.22758817, 0.29666955,\n",
       "       0.86349879, 0.96654835, 0.79050641, 0.2222838 , 0.36679793])"
      ]
     },
     "execution_count": 46,
     "metadata": {},
     "output_type": "execute_result"
    }
   ],
   "source": [
    "array_random = np.random.rand(10)\n",
    "array_random"
   ]
  },
  {
   "cell_type": "code",
   "execution_count": 50,
   "id": "8e82e98d",
   "metadata": {},
   "outputs": [
    {
     "data": {
      "text/plain": [
       "array([0.63620654, 0.50559446, 0.53327484, 0.22758817, 0.29666955,\n",
       "       0.        , 0.        , 0.79050641, 0.        , 0.36679793])"
      ]
     },
     "execution_count": 50,
     "metadata": {},
     "output_type": "execute_result"
    }
   ],
   "source": [
    "maximo1 = np.argmax(array_random)\n",
    "minimo1 = np.argmin(array_random)\n",
    "array_random[maximo1] = 0\n",
    "array_random[minimo1] = 0\n",
    "array_random"
   ]
  },
  {
   "cell_type": "markdown",
   "id": "781fafd0",
   "metadata": {},
   "source": [
    "#### Ejercicio 12 - Genera un array de 15 números aleatorios enteros entre 1 y 100 y reordénalo en orden ascendente."
   ]
  },
  {
   "cell_type": "code",
   "execution_count": 53,
   "id": "caa4fd47",
   "metadata": {},
   "outputs": [
    {
     "data": {
      "text/plain": [
       "array([16, 19, 22, 28, 29, 31, 41, 48, 49, 68, 76, 82, 85, 97, 99])"
      ]
     },
     "execution_count": 53,
     "metadata": {},
     "output_type": "execute_result"
    }
   ],
   "source": [
    "array_random2 = np.random.randint(1, 101, size=15)\n",
    "array_ordenado = np.sort(array_random2)\n",
    "array_ordenado\n"
   ]
  },
  {
   "cell_type": "markdown",
   "id": "45f10c3e",
   "metadata": {},
   "source": [
    "#### Ejercicio 11 - Calcula la suma de los elementos a lo largo de las filas y columnas en una matriz 4x4."
   ]
  },
  {
   "cell_type": "code",
   "execution_count": 55,
   "id": "90220788",
   "metadata": {},
   "outputs": [
    {
     "data": {
      "text/plain": [
       "array([[10, 10,  8, 10],\n",
       "       [ 8,  1,  7, 10],\n",
       "       [ 7,  4,  6,  5],\n",
       "       [ 5,  4,  1,  9]])"
      ]
     },
     "execution_count": 55,
     "metadata": {},
     "output_type": "execute_result"
    }
   ],
   "source": [
    "random3 = np.random.randint(1, 11, (4, 4))\n",
    "random3"
   ]
  },
  {
   "cell_type": "code",
   "execution_count": 57,
   "id": "607869ed",
   "metadata": {},
   "outputs": [
    {
     "data": {
      "text/plain": [
       "array([38, 26, 22, 19])"
      ]
     },
     "execution_count": 57,
     "metadata": {},
     "output_type": "execute_result"
    }
   ],
   "source": [
    "suma_filas = np.sum(random3, axis=1)\n",
    "suma_filas"
   ]
  },
  {
   "cell_type": "code",
   "execution_count": 59,
   "id": "e037a444",
   "metadata": {},
   "outputs": [
    {
     "data": {
      "text/plain": [
       "array([30, 19, 22, 34])"
      ]
     },
     "execution_count": 59,
     "metadata": {},
     "output_type": "execute_result"
    }
   ],
   "source": [
    "suma_columnas = np.sum(random3, axis=0)\n",
    "suma_columnas\n"
   ]
  },
  {
   "cell_type": "markdown",
   "id": "69b9751a",
   "metadata": {},
   "source": [
    "#### Ejercicio 12 - Crea una matriz de 5x5 con valores en el borde igual a 1 y en el interior igual a 0."
   ]
  },
  {
   "cell_type": "code",
   "execution_count": 62,
   "id": "eca81323",
   "metadata": {},
   "outputs": [
    {
     "data": {
      "text/plain": [
       "array([[0, 0, 0, 0, 0],\n",
       "       [0, 0, 0, 0, 0],\n",
       "       [0, 0, 0, 0, 0],\n",
       "       [0, 0, 0, 0, 0],\n",
       "       [0, 0, 0, 0, 0]])"
      ]
     },
     "execution_count": 62,
     "metadata": {},
     "output_type": "execute_result"
    }
   ],
   "source": [
    "array_ceros = np.zeros((5, 5), dtype=int)\n",
    "array_ceros"
   ]
  },
  {
   "cell_type": "code",
   "execution_count": 63,
   "id": "840dad33",
   "metadata": {},
   "outputs": [
    {
     "data": {
      "text/plain": [
       "array([[1, 1, 1, 1, 1],\n",
       "       [1, 0, 0, 0, 1],\n",
       "       [1, 0, 0, 0, 1],\n",
       "       [1, 0, 0, 0, 1],\n",
       "       [1, 1, 1, 1, 1]])"
      ]
     },
     "execution_count": 63,
     "metadata": {},
     "output_type": "execute_result"
    }
   ],
   "source": [
    "array_ceros[0, :] = 1 \n",
    "array_ceros[-1, :] = 1 \n",
    "array_ceros[:, 0] = 1\n",
    "array_ceros[:, -1] = 1\n",
    "array_ceros"
   ]
  },
  {
   "cell_type": "markdown",
   "id": "1ea8068d",
   "metadata": {},
   "source": [
    "#### Ejercicio 13 - Calcula la media y la desviación estándar de un array de 10 números aleatorios."
   ]
  },
  {
   "cell_type": "code",
   "execution_count": 64,
   "id": "05dd579d",
   "metadata": {},
   "outputs": [
    {
     "data": {
      "text/plain": [
       "array([16, 34, 67, 26, 49, 56, 88, 99,  0,  6])"
      ]
     },
     "execution_count": 64,
     "metadata": {},
     "output_type": "execute_result"
    }
   ],
   "source": [
    "random4 = np.random.randint(0, 101, 10)\n",
    "random4"
   ]
  },
  {
   "cell_type": "code",
   "execution_count": 65,
   "id": "07510ffb",
   "metadata": {},
   "outputs": [
    {
     "data": {
      "text/plain": [
       "np.float64(44.1)"
      ]
     },
     "execution_count": 65,
     "metadata": {},
     "output_type": "execute_result"
    }
   ],
   "source": [
    "media = np.mean(random4)\n",
    "media"
   ]
  },
  {
   "cell_type": "code",
   "execution_count": 66,
   "id": "3a95088b",
   "metadata": {},
   "outputs": [
    {
     "data": {
      "text/plain": [
       "np.float64(32.01077943443427)"
      ]
     },
     "execution_count": 66,
     "metadata": {},
     "output_type": "execute_result"
    }
   ],
   "source": [
    "desviacion_estandar = np.std(random4)\n",
    "desviacion_estandar\n"
   ]
  },
  {
   "cell_type": "markdown",
   "id": "6add6669",
   "metadata": {},
   "source": [
    "#### Ejercicio 14 - Genera un array tridimensional de dimensiones (2, 3, 4) con valores enteros del 1 al 24.\n",
    "\n",
    "- Transpón el array para intercambiar los ejes de la forma (2, 3, 4) a (4, 3, 2).\n",
    "\n",
    "- Observa cómo cambian las posiciones de los elementos y sus índices después de la transposición. Explica en una celda de markdown que es lo que ha pasado. \n"
   ]
  },
  {
   "cell_type": "code",
   "execution_count": 67,
   "id": "ae98aca5",
   "metadata": {},
   "outputs": [
    {
     "data": {
      "text/plain": [
       "array([[[ 6,  9,  2, 23],\n",
       "        [23, 17, 24, 24],\n",
       "        [ 6,  2, 10, 16]],\n",
       "\n",
       "       [[11, 15,  8, 10],\n",
       "        [19, 17, 23, 14],\n",
       "        [ 1, 23,  7, 12]]])"
      ]
     },
     "execution_count": 67,
     "metadata": {},
     "output_type": "execute_result"
    }
   ],
   "source": [
    "array_randint_tri6 = np.random.randint(1, 25, (2,3,4))\n",
    "array_randint_tri6"
   ]
  },
  {
   "cell_type": "code",
   "execution_count": 68,
   "id": "b3a184b1",
   "metadata": {},
   "outputs": [
    {
     "ename": "AxisError",
     "evalue": "axis 4 is out of bounds for array of dimension 3",
     "output_type": "error",
     "traceback": [
      "\u001b[0;31m---------------------------------------------------------------------------\u001b[0m",
      "\u001b[0;31mAxisError\u001b[0m                                 Traceback (most recent call last)",
      "Cell \u001b[0;32mIn[68], line 1\u001b[0m\n\u001b[0;32m----> 1\u001b[0m array_trans \u001b[38;5;241m=\u001b[39m \u001b[43mnp\u001b[49m\u001b[38;5;241;43m.\u001b[39;49m\u001b[43mtranspose\u001b[49m\u001b[43m(\u001b[49m\u001b[43marray_randint_tri6\u001b[49m\u001b[43m,\u001b[49m\u001b[43m \u001b[49m\u001b[43m(\u001b[49m\u001b[38;5;241;43m4\u001b[39;49m\u001b[43m,\u001b[49m\u001b[43m \u001b[49m\u001b[38;5;241;43m3\u001b[39;49m\u001b[43m,\u001b[49m\u001b[43m \u001b[49m\u001b[38;5;241;43m2\u001b[39;49m\u001b[43m)\u001b[49m\u001b[43m)\u001b[49m\n\u001b[1;32m      2\u001b[0m array_trans\n",
      "File \u001b[0;32m~/Library/Python/3.9/lib/python/site-packages/numpy/_core/fromnumeric.py:669\u001b[0m, in \u001b[0;36mtranspose\u001b[0;34m(a, axes)\u001b[0m\n\u001b[1;32m    602\u001b[0m \u001b[38;5;129m@array_function_dispatch\u001b[39m(_transpose_dispatcher)\n\u001b[1;32m    603\u001b[0m \u001b[38;5;28;01mdef\u001b[39;00m \u001b[38;5;21mtranspose\u001b[39m(a, axes\u001b[38;5;241m=\u001b[39m\u001b[38;5;28;01mNone\u001b[39;00m):\n\u001b[1;32m    604\u001b[0m \u001b[38;5;250m    \u001b[39m\u001b[38;5;124;03m\"\"\"\u001b[39;00m\n\u001b[1;32m    605\u001b[0m \u001b[38;5;124;03m    Returns an array with axes transposed.\u001b[39;00m\n\u001b[1;32m    606\u001b[0m \n\u001b[0;32m   (...)\u001b[0m\n\u001b[1;32m    667\u001b[0m \n\u001b[1;32m    668\u001b[0m \u001b[38;5;124;03m    \"\"\"\u001b[39;00m\n\u001b[0;32m--> 669\u001b[0m     \u001b[38;5;28;01mreturn\u001b[39;00m \u001b[43m_wrapfunc\u001b[49m\u001b[43m(\u001b[49m\u001b[43ma\u001b[49m\u001b[43m,\u001b[49m\u001b[43m \u001b[49m\u001b[38;5;124;43m'\u001b[39;49m\u001b[38;5;124;43mtranspose\u001b[39;49m\u001b[38;5;124;43m'\u001b[39;49m\u001b[43m,\u001b[49m\u001b[43m \u001b[49m\u001b[43maxes\u001b[49m\u001b[43m)\u001b[49m\n",
      "File \u001b[0;32m~/Library/Python/3.9/lib/python/site-packages/numpy/_core/fromnumeric.py:57\u001b[0m, in \u001b[0;36m_wrapfunc\u001b[0;34m(obj, method, *args, **kwds)\u001b[0m\n\u001b[1;32m     54\u001b[0m     \u001b[38;5;28;01mreturn\u001b[39;00m _wrapit(obj, method, \u001b[38;5;241m*\u001b[39margs, \u001b[38;5;241m*\u001b[39m\u001b[38;5;241m*\u001b[39mkwds)\n\u001b[1;32m     56\u001b[0m \u001b[38;5;28;01mtry\u001b[39;00m:\n\u001b[0;32m---> 57\u001b[0m     \u001b[38;5;28;01mreturn\u001b[39;00m \u001b[43mbound\u001b[49m\u001b[43m(\u001b[49m\u001b[38;5;241;43m*\u001b[39;49m\u001b[43margs\u001b[49m\u001b[43m,\u001b[49m\u001b[43m \u001b[49m\u001b[38;5;241;43m*\u001b[39;49m\u001b[38;5;241;43m*\u001b[39;49m\u001b[43mkwds\u001b[49m\u001b[43m)\u001b[49m\n\u001b[1;32m     58\u001b[0m \u001b[38;5;28;01mexcept\u001b[39;00m \u001b[38;5;167;01mTypeError\u001b[39;00m:\n\u001b[1;32m     59\u001b[0m     \u001b[38;5;66;03m# A TypeError occurs if the object does have such a method in its\u001b[39;00m\n\u001b[1;32m     60\u001b[0m     \u001b[38;5;66;03m# class, but its signature is not identical to that of NumPy's. This\u001b[39;00m\n\u001b[0;32m   (...)\u001b[0m\n\u001b[1;32m     64\u001b[0m     \u001b[38;5;66;03m# Call _wrapit from within the except clause to ensure a potential\u001b[39;00m\n\u001b[1;32m     65\u001b[0m     \u001b[38;5;66;03m# exception has a traceback chain.\u001b[39;00m\n\u001b[1;32m     66\u001b[0m     \u001b[38;5;28;01mreturn\u001b[39;00m _wrapit(obj, method, \u001b[38;5;241m*\u001b[39margs, \u001b[38;5;241m*\u001b[39m\u001b[38;5;241m*\u001b[39mkwds)\n",
      "\u001b[0;31mAxisError\u001b[0m: axis 4 is out of bounds for array of dimension 3"
     ]
    }
   ],
   "source": [
    "array_trans = np.transpose(array_randint_tri6, (4, 3, 2))\n",
    "array_trans"
   ]
  },
  {
   "cell_type": "markdown",
   "id": "1e32b5e6",
   "metadata": {},
   "source": [
    "#### Ejercicio 15 - Genera un array tridimensional de dimensiones (3, 4, 2) con valores enteros del 1 al 24.\n",
    "\n",
    "- Transpón el array para intercambiar el primer y segundo eje, de manera que la nueva forma del array sea (4, 3, 2).\n"
   ]
  },
  {
   "cell_type": "code",
   "execution_count": null,
   "id": "0146fdd6",
   "metadata": {},
   "outputs": [],
   "source": []
  },
  {
   "cell_type": "markdown",
   "id": "fcf92586",
   "metadata": {},
   "source": [
    "#### Ejercicio 16 - Genera un array tridimensional de dimensiones (3, 2, 4) con valores enteros del 1 al 24.\n",
    "\n",
    "- Realiza una rotación completa de los ejes para convertir la forma original (3, 2, 4) en (4, 3, 2).\n"
   ]
  },
  {
   "cell_type": "code",
   "execution_count": null,
   "id": "dd2c7f27",
   "metadata": {},
   "outputs": [],
   "source": []
  },
  {
   "cell_type": "markdown",
   "id": "1795e11f",
   "metadata": {},
   "source": [
    "#### Ejercicio 17 - Manipulación de Arrays en 3D\n",
    "\n",
    "- Crea un array tridimensional con dimensiones (3, 4, 5) cuyos elementos sean números enteros aleatorios entre -10 y 10.\n",
    "\n",
    "- Crea un array vacío con la misma forma y dimensiones que el array creado anteriormente. Luego, reemplaza los valores de la matriz vacía basada en los valores del primer array bajo las siguientes condiciones:\n",
    "\n",
    "   - Si el valor es igual a la mediana, se reemplaza por `\"M\"`.\n",
    "\n",
    "   - Si el valor es mayor que la mediana, se reemplaza por `\"X\"`.\n",
    "\n",
    "   - Si el valor es menor que la mediana, se reemplaza por `\"Y\"`.\n",
    "\n",
    "   - Si el valor es igual al máximo, se reemplaza por `\"MAX\"`.\n",
    "\n",
    "   - Si el valor es igual al mínimo, se reemplaza por `\"MIN\"`.\n"
   ]
  },
  {
   "cell_type": "code",
   "execution_count": null,
   "id": "d309b397",
   "metadata": {},
   "outputs": [],
   "source": []
  },
  {
   "cell_type": "markdown",
   "id": "83794704",
   "metadata": {},
   "source": [
    "#### Ejercicio 18 - Verificación de Filas y Columnas Iguales\n",
    "\n",
    "Crea un array bidimensional de dimensiones 4x4, escribe un código para determinar si alguna fila es exactamente igual a alguna columna.\n",
    "\n",
    "**Reglas:**\n",
    "\n",
    "- No puedes usar funciones predefinidas de NumPy para comparar filas y columnas (`np.array_equal`, etc.).\n",
    "\n",
    "- Debes resolverlo con estructuras básicas de Python (bucles, condicionales, etc.).\n",
    "\n",
    "- Debes revisar si hay al menos una fila que coincida exactamente con alguna columna.\n",
    "\n",
    "**Pistas**:\n",
    "\n",
    "- Puedes recorrer cada fila y cada columna de la matriz usando bucles.\n",
    "\n",
    "- Para comparar una fila con una columna, puedes hacerlo elemento por elemento."
   ]
  },
  {
   "cell_type": "code",
   "execution_count": null,
   "id": "afd51c60",
   "metadata": {},
   "outputs": [],
   "source": []
  }
 ],
 "metadata": {
  "kernelspec": {
   "display_name": "Python 3",
   "language": "python",
   "name": "python3"
  },
  "language_info": {
   "codemirror_mode": {
    "name": "ipython",
    "version": 3
   },
   "file_extension": ".py",
   "mimetype": "text/x-python",
   "name": "python",
   "nbconvert_exporter": "python",
   "pygments_lexer": "ipython3",
   "version": "3.9.6"
  }
 },
 "nbformat": 4,
 "nbformat_minor": 5
}
